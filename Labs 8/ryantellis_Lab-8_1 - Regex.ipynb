{
 "cells": [
  {
   "cell_type": "markdown",
   "metadata": {
    "id": "4hbPgptrMKl-"
   },
   "source": [
    "<div>\n",
    "<img src=https://www.institutedata.com/wp-content/uploads/2019/10/iod_h_tp_primary_c.svg width=\"300\">\n",
    "</div>"
   ]
  },
  {
   "cell_type": "markdown",
   "metadata": {
    "id": "5YFCF9NXMKmB"
   },
   "source": [
    "# Lab 8.1: Regular Expressions\n",
    "INSTRUCTIONS:\n",
    "- Read the guides and [hints](https://www.w3schools.com/python/python_regex.asp), then create the necessary analysis and code to find an answer and conclusion for the tasks below.\n",
    "- Complete `IOD Demo-8_2` first"
   ]
  },
  {
   "cell_type": "markdown",
   "metadata": {
    "id": "7HixmqcIMKmF"
   },
   "source": [
    "## 0. Import the necessary libraries\n",
    "\n",
    "Please use Python's built-in package called `re` to work with Regular Expressions."
   ]
  },
  {
   "cell_type": "code",
   "execution_count": 5,
   "metadata": {
    "id": "zvHNnovVcwu0"
   },
   "outputs": [],
   "source": [
    "# Import Libraries\n",
    "import re"
   ]
  },
  {
   "cell_type": "markdown",
   "metadata": {
    "id": "uyj2kaYeMKmI"
   },
   "source": [
    "## 1. Extract the `country code`, `area code` and `local phone number` from the following phone numbers\n",
    "**Hint**: Use groups with `()`. Assume they have the same form as shown."
   ]
  },
  {
   "cell_type": "code",
   "execution_count": 7,
   "metadata": {
    "id": "RyB5pa2iMKmL"
   },
   "outputs": [],
   "source": [
    "phonenumbers = '''+61 (02) 5443 5434\n",
    "+64 (09) 888 7766\n",
    "+1 (655) 432 4345'''\n",
    "\n",
    "desired_output = [\n",
    "    ('61', '02', '5443 5434'),\n",
    "    ('64', '09', '888 7766'),\n",
    "    ('1', '655', '432 4345')\n",
    "]\n",
    "\n",
    "pattern = r'\\+(\\d+)\\s+\\((\\d+)\\)\\s+([\\d\\s]+?)\\s*(?:\\n|$)' # insert code here\n",
    "\n",
    "output = re.findall(pattern, phonenumbers)\n",
    "\n",
    "assert output == desired_output, 'Not equal!'"
   ]
  },
  {
   "cell_type": "code",
   "execution_count": 9,
   "metadata": {},
   "outputs": [
    {
     "name": "stdout",
     "output_type": "stream",
     "text": [
      "[('61', '02', '5443 5434'), ('64', '09', '888 7766'), ('1', '655', '432 4345')]\n"
     ]
    }
   ],
   "source": [
    "output = re.findall(pattern, phonenumbers)\n",
    "print(output)"
   ]
  },
  {
   "cell_type": "markdown",
   "metadata": {
    "id": "x5VnTr9ZMKmV"
   },
   "source": [
    "## 2. Retrieve all the email addresses from the following text\n",
    "Assume each email address has the form `id@domain.suffix`."
   ]
  },
  {
   "cell_type": "code",
   "execution_count": 71,
   "metadata": {
    "id": "mL5R80-xMKmX"
   },
   "outputs": [],
   "source": [
    "text = '''Feel free to contact my managers p1@institutedata.com, p_2@domain2.com and p3@institutedata.com\n",
    "for further details.'''\n",
    "\n",
    "desired_output = [\n",
    "    'p1@institutedata.com', 'p_2@domain2.com', 'p3@institutedata.com'\n",
    "]\n",
    "\n",
    "pattern = r'[\\w\\.]+@[\\w\\.]+\\.\\w+' # insert code here\n",
    "\n",
    "output = re.findall(pattern, text)\n",
    "\n",
    "assert output == desired_output, 'Not equal!'"
   ]
  },
  {
   "cell_type": "code",
   "execution_count": 73,
   "metadata": {},
   "outputs": [
    {
     "name": "stdout",
     "output_type": "stream",
     "text": [
      "['p1@institutedata.com', 'p_2@domain2.com', 'p3@institutedata.com']\n"
     ]
    }
   ],
   "source": [
    "output = re.findall(pattern, text)\n",
    "print(output)"
   ]
  },
  {
   "cell_type": "markdown",
   "metadata": {
    "id": "Dhzd73XzMKmb"
   },
   "source": [
    "## 3. Split the following text into words\n",
    "Add delimiters into the pattern as needed."
   ]
  },
  {
   "cell_type": "code",
   "execution_count": 114,
   "metadata": {
    "id": "RCILkx5rMKmd"
   },
   "outputs": [
    {
     "name": "stdout",
     "output_type": "stream",
     "text": [
      "An unusual and poorly formatted piece of text\n"
     ]
    }
   ],
   "source": [
    "text = 'An, unusual   and; poorly formatted_piece of text'\n",
    "\n",
    "desired_output = 'An unusual and poorly formatted piece of text'\n",
    "\n",
    "pattern = r'[^a-zA-Z0-9]+' # insert code here\n",
    "\n",
    "output = ' '.join(re.split(pattern, text))\n",
    "print(output)\n"
   ]
  },
  {
   "cell_type": "code",
   "execution_count": 116,
   "metadata": {},
   "outputs": [],
   "source": [
    "assert output == desired_output, 'Not equal!'"
   ]
  },
  {
   "cell_type": "markdown",
   "metadata": {
    "id": "YJoo9KuFMKmh"
   },
   "source": [
    "## 4. Filter the following tweet so that it contains only the message\n",
    "In other words, remove URLs, RTs, CCs, hashtags, mentions, punctuations."
   ]
  },
  {
   "cell_type": "code",
   "execution_count": 51,
   "metadata": {
    "id": "02JgjxPTMKmi"
   },
   "outputs": [
    {
     "name": "stdout",
     "output_type": "stream",
     "text": [
      "Hello everyone Did you see what I got up to earlier\n"
     ]
    }
   ],
   "source": [
    "tweet = 'Hello everyone! RT @MaskedAvenger: Did you see what I got up to earlier? http://abc.me/ref cc: @Mom_Judy #stayfit'\n",
    "\n",
    "desired_output = 'Hello everyone Did you see what I got up to earlier'\n",
    "\n",
    "def clean_tweet(tweet):\n",
    "    tweet = re.sub(r'http\\S+', '', tweet)  # remove URLs\n",
    "    tweet = re.sub(r'RT|cc', '', tweet)  # remove RT and cc\n",
    "    tweet = re.sub(r'#\\w+', '', tweet)  # remove hashtags\n",
    "    tweet = re.sub(r'@\\S+', '', tweet)  # remove mentions\n",
    "    tweet = re.sub(r'[^\\w\\s]', '', tweet)  # remove punctuations\n",
    "    tweet = re.sub(r'\\s{2}', '', tweet)  # remove extra whitespace\n",
    "    tweet = re.sub('', '', tweet)  # remove extra whitespace\n",
    "    return tweet\n",
    "\n",
    "output = clean_tweet(tweet)\n",
    "print(output)"
   ]
  },
  {
   "cell_type": "code",
   "execution_count": 53,
   "metadata": {},
   "outputs": [],
   "source": [
    "assert output == desired_output, 'Not equal!'"
   ]
  },
  {
   "cell_type": "markdown",
   "metadata": {
    "id": "RERADKgNFq9T"
   },
   "source": [
    "\n",
    "\n",
    "---\n",
    "\n",
    "\n",
    "\n",
    "---\n",
    "\n",
    "\n",
    "\n",
    "> > > > > > > > > © 2025 Institute of Data\n",
    "\n",
    "\n",
    "---\n",
    "\n",
    "\n",
    "\n",
    "---\n",
    "\n",
    "\n",
    "\n"
   ]
  }
 ],
 "metadata": {
  "colab": {
   "provenance": []
  },
  "kernelspec": {
   "display_name": "Python [conda env:base] *",
   "language": "python",
   "name": "conda-base-py"
  },
  "language_info": {
   "codemirror_mode": {
    "name": "ipython",
    "version": 3
   },
   "file_extension": ".py",
   "mimetype": "text/x-python",
   "name": "python",
   "nbconvert_exporter": "python",
   "pygments_lexer": "ipython3",
   "version": "3.12.7"
  }
 },
 "nbformat": 4,
 "nbformat_minor": 4
}
