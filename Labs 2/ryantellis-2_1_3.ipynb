{
 "cells": [
  {
   "cell_type": "markdown",
   "metadata": {
    "id": "Qxi_CGp4Wp-1"
   },
   "source": [
    "<div>\n",
    "<img src=https://www.institutedata.com/wp-content/uploads/2019/10/iod_h_tp_primary_c.svg width=\"300\">\n",
    "</div>"
   ]
  },
  {
   "cell_type": "markdown",
   "metadata": {
    "id": "HzUGTgjSWp-2"
   },
   "source": [
    "# Lab 2.1.3 - Central Limit Theorem\n",
    "\n",
    "## Data\n",
    "\n",
    "The Philippine Statistics Authority (PSA) spearheads the conduct of the Family Income and Expenditure Survey (FIES) nationwide. The survey, which is undertaken every three (3) years, is aimed at providing data on family income and expenditure, including, among others, levels of consumption by item of expenditure, sources of income in cash, and related information affecting income and expenditure levels and patterns in the Philippines.\n",
    "\n",
    "You can download the data from [here](https://www.kaggle.com/grosvenpaul/family-income-and-expenditure).\n",
    "\n",
    "The purpose of today's lab is to use simulation to visualise the sampling distribution for the sample mean. The Central Limit Theorem (CLT) tells us that as our sample size gets larger, the sampling distribution of the sample mean converges to a normal distribution. Therefore, when we have a large sample size, we can say that the sampling distribution for the sample mean is approximately normal, regardless of the distribution from which we are sampling.\n",
    "\n",
    "Let's start by taking a look at the data, **`Total Household Income`** will serve as a \"population\" for the purposes of this lab."
   ]
  },
  {
   "cell_type": "code",
   "execution_count": 8,
   "metadata": {
    "id": "1dXTqX_NWp-3"
   },
   "outputs": [],
   "source": [
    "import pandas as pd\n",
    "import numpy as np\n",
    "import matplotlib.pyplot as plt\n",
    "import seaborn as sns\n",
    "\n",
    "%matplotlib inline"
   ]
  },
  {
   "cell_type": "code",
   "execution_count": 14,
   "metadata": {
    "id": "OzOQz3KGWp-6"
   },
   "outputs": [],
   "source": [
    "household_csv = r\"C:\\Users\\ryant\\Desktop\\IOD\\DATA\\Family_Income_and_Expenditure.csv\"\n",
    "# Read CSV\n",
    "household = pd.read_csv(household_csv)"
   ]
  },
  {
   "cell_type": "code",
   "execution_count": 16,
   "metadata": {
    "id": "vLQtYvURWp-8"
   },
   "outputs": [
    {
     "data": {
      "text/html": [
       "<div>\n",
       "<style scoped>\n",
       "    .dataframe tbody tr th:only-of-type {\n",
       "        vertical-align: middle;\n",
       "    }\n",
       "\n",
       "    .dataframe tbody tr th {\n",
       "        vertical-align: top;\n",
       "    }\n",
       "\n",
       "    .dataframe thead th {\n",
       "        text-align: right;\n",
       "    }\n",
       "</style>\n",
       "<table border=\"1\" class=\"dataframe\">\n",
       "  <thead>\n",
       "    <tr style=\"text-align: right;\">\n",
       "      <th></th>\n",
       "      <th>Total Household Income</th>\n",
       "      <th>Region</th>\n",
       "      <th>Total Food Expenditure</th>\n",
       "      <th>Main Source of Income</th>\n",
       "      <th>Agricultural Household indicator</th>\n",
       "      <th>Bread and Cereals Expenditure</th>\n",
       "      <th>Total Rice Expenditure</th>\n",
       "      <th>Meat Expenditure</th>\n",
       "      <th>Total Fish and  marine products Expenditure</th>\n",
       "      <th>Fruit Expenditure</th>\n",
       "      <th>...</th>\n",
       "      <th>Number of Refrigerator/Freezer</th>\n",
       "      <th>Number of Washing Machine</th>\n",
       "      <th>Number of Airconditioner</th>\n",
       "      <th>Number of Car, Jeep, Van</th>\n",
       "      <th>Number of Landline/wireless telephones</th>\n",
       "      <th>Number of Cellular phone</th>\n",
       "      <th>Number of Personal Computer</th>\n",
       "      <th>Number of Stove with Oven/Gas Range</th>\n",
       "      <th>Number of Motorized Banca</th>\n",
       "      <th>Number of Motorcycle/Tricycle</th>\n",
       "    </tr>\n",
       "  </thead>\n",
       "  <tbody>\n",
       "    <tr>\n",
       "      <th>0</th>\n",
       "      <td>480332</td>\n",
       "      <td>CAR</td>\n",
       "      <td>117848</td>\n",
       "      <td>Wage/Salaries</td>\n",
       "      <td>0</td>\n",
       "      <td>42140</td>\n",
       "      <td>38300</td>\n",
       "      <td>24676</td>\n",
       "      <td>16806</td>\n",
       "      <td>3325</td>\n",
       "      <td>...</td>\n",
       "      <td>1</td>\n",
       "      <td>1</td>\n",
       "      <td>0</td>\n",
       "      <td>0</td>\n",
       "      <td>0</td>\n",
       "      <td>2</td>\n",
       "      <td>1</td>\n",
       "      <td>0</td>\n",
       "      <td>0</td>\n",
       "      <td>1</td>\n",
       "    </tr>\n",
       "    <tr>\n",
       "      <th>1</th>\n",
       "      <td>198235</td>\n",
       "      <td>CAR</td>\n",
       "      <td>67766</td>\n",
       "      <td>Wage/Salaries</td>\n",
       "      <td>0</td>\n",
       "      <td>17329</td>\n",
       "      <td>13008</td>\n",
       "      <td>17434</td>\n",
       "      <td>11073</td>\n",
       "      <td>2035</td>\n",
       "      <td>...</td>\n",
       "      <td>0</td>\n",
       "      <td>1</td>\n",
       "      <td>0</td>\n",
       "      <td>0</td>\n",
       "      <td>0</td>\n",
       "      <td>3</td>\n",
       "      <td>1</td>\n",
       "      <td>0</td>\n",
       "      <td>0</td>\n",
       "      <td>2</td>\n",
       "    </tr>\n",
       "    <tr>\n",
       "      <th>2</th>\n",
       "      <td>82785</td>\n",
       "      <td>CAR</td>\n",
       "      <td>61609</td>\n",
       "      <td>Wage/Salaries</td>\n",
       "      <td>1</td>\n",
       "      <td>34182</td>\n",
       "      <td>32001</td>\n",
       "      <td>7783</td>\n",
       "      <td>2590</td>\n",
       "      <td>1730</td>\n",
       "      <td>...</td>\n",
       "      <td>0</td>\n",
       "      <td>0</td>\n",
       "      <td>0</td>\n",
       "      <td>0</td>\n",
       "      <td>0</td>\n",
       "      <td>0</td>\n",
       "      <td>0</td>\n",
       "      <td>0</td>\n",
       "      <td>0</td>\n",
       "      <td>0</td>\n",
       "    </tr>\n",
       "    <tr>\n",
       "      <th>3</th>\n",
       "      <td>107589</td>\n",
       "      <td>CAR</td>\n",
       "      <td>78189</td>\n",
       "      <td>Wage/Salaries</td>\n",
       "      <td>0</td>\n",
       "      <td>34030</td>\n",
       "      <td>28659</td>\n",
       "      <td>10914</td>\n",
       "      <td>10812</td>\n",
       "      <td>690</td>\n",
       "      <td>...</td>\n",
       "      <td>0</td>\n",
       "      <td>0</td>\n",
       "      <td>0</td>\n",
       "      <td>0</td>\n",
       "      <td>0</td>\n",
       "      <td>1</td>\n",
       "      <td>0</td>\n",
       "      <td>0</td>\n",
       "      <td>0</td>\n",
       "      <td>0</td>\n",
       "    </tr>\n",
       "    <tr>\n",
       "      <th>4</th>\n",
       "      <td>189322</td>\n",
       "      <td>CAR</td>\n",
       "      <td>94625</td>\n",
       "      <td>Wage/Salaries</td>\n",
       "      <td>0</td>\n",
       "      <td>34820</td>\n",
       "      <td>30167</td>\n",
       "      <td>18391</td>\n",
       "      <td>11309</td>\n",
       "      <td>1395</td>\n",
       "      <td>...</td>\n",
       "      <td>1</td>\n",
       "      <td>0</td>\n",
       "      <td>0</td>\n",
       "      <td>0</td>\n",
       "      <td>0</td>\n",
       "      <td>3</td>\n",
       "      <td>0</td>\n",
       "      <td>0</td>\n",
       "      <td>0</td>\n",
       "      <td>1</td>\n",
       "    </tr>\n",
       "  </tbody>\n",
       "</table>\n",
       "<p>5 rows × 60 columns</p>\n",
       "</div>"
      ],
      "text/plain": [
       "   Total Household Income Region  Total Food Expenditure  \\\n",
       "0                  480332    CAR                  117848   \n",
       "1                  198235    CAR                   67766   \n",
       "2                   82785    CAR                   61609   \n",
       "3                  107589    CAR                   78189   \n",
       "4                  189322    CAR                   94625   \n",
       "\n",
       "  Main Source of Income  Agricultural Household indicator  \\\n",
       "0         Wage/Salaries                                 0   \n",
       "1         Wage/Salaries                                 0   \n",
       "2         Wage/Salaries                                 1   \n",
       "3         Wage/Salaries                                 0   \n",
       "4         Wage/Salaries                                 0   \n",
       "\n",
       "   Bread and Cereals Expenditure  Total Rice Expenditure  Meat Expenditure  \\\n",
       "0                          42140                   38300             24676   \n",
       "1                          17329                   13008             17434   \n",
       "2                          34182                   32001              7783   \n",
       "3                          34030                   28659             10914   \n",
       "4                          34820                   30167             18391   \n",
       "\n",
       "   Total Fish and  marine products Expenditure  Fruit Expenditure  ...  \\\n",
       "0                                        16806               3325  ...   \n",
       "1                                        11073               2035  ...   \n",
       "2                                         2590               1730  ...   \n",
       "3                                        10812                690  ...   \n",
       "4                                        11309               1395  ...   \n",
       "\n",
       "   Number of Refrigerator/Freezer  Number of Washing Machine  \\\n",
       "0                               1                          1   \n",
       "1                               0                          1   \n",
       "2                               0                          0   \n",
       "3                               0                          0   \n",
       "4                               1                          0   \n",
       "\n",
       "   Number of Airconditioner  Number of Car, Jeep, Van  \\\n",
       "0                         0                         0   \n",
       "1                         0                         0   \n",
       "2                         0                         0   \n",
       "3                         0                         0   \n",
       "4                         0                         0   \n",
       "\n",
       "   Number of Landline/wireless telephones  Number of Cellular phone  \\\n",
       "0                                       0                         2   \n",
       "1                                       0                         3   \n",
       "2                                       0                         0   \n",
       "3                                       0                         1   \n",
       "4                                       0                         3   \n",
       "\n",
       "   Number of Personal Computer  Number of Stove with Oven/Gas Range  \\\n",
       "0                            1                                    0   \n",
       "1                            1                                    0   \n",
       "2                            0                                    0   \n",
       "3                            0                                    0   \n",
       "4                            0                                    0   \n",
       "\n",
       "   Number of Motorized Banca  Number of Motorcycle/Tricycle  \n",
       "0                          0                              1  \n",
       "1                          0                              2  \n",
       "2                          0                              0  \n",
       "3                          0                              0  \n",
       "4                          0                              1  \n",
       "\n",
       "[5 rows x 60 columns]"
      ]
     },
     "execution_count": 16,
     "metadata": {},
     "output_type": "execute_result"
    }
   ],
   "source": [
    "# Head\n",
    "household.head()"
   ]
  },
  {
   "cell_type": "code",
   "execution_count": 18,
   "metadata": {
    "id": "uin2jPA-Wp-_"
   },
   "outputs": [
    {
     "data": {
      "text/html": [
       "<div>\n",
       "<style scoped>\n",
       "    .dataframe tbody tr th:only-of-type {\n",
       "        vertical-align: middle;\n",
       "    }\n",
       "\n",
       "    .dataframe tbody tr th {\n",
       "        vertical-align: top;\n",
       "    }\n",
       "\n",
       "    .dataframe thead th {\n",
       "        text-align: right;\n",
       "    }\n",
       "</style>\n",
       "<table border=\"1\" class=\"dataframe\">\n",
       "  <thead>\n",
       "    <tr style=\"text-align: right;\">\n",
       "      <th></th>\n",
       "      <th>Total Household Income</th>\n",
       "      <th>Region</th>\n",
       "      <th>Total Food Expenditure</th>\n",
       "      <th>Main Source of Income</th>\n",
       "      <th>Agricultural Household indicator</th>\n",
       "      <th>Bread and Cereals Expenditure</th>\n",
       "      <th>Total Rice Expenditure</th>\n",
       "      <th>Meat Expenditure</th>\n",
       "      <th>Total Fish and  marine products Expenditure</th>\n",
       "      <th>Fruit Expenditure</th>\n",
       "      <th>...</th>\n",
       "      <th>Number of Refrigerator/Freezer</th>\n",
       "      <th>Number of Washing Machine</th>\n",
       "      <th>Number of Airconditioner</th>\n",
       "      <th>Number of Car, Jeep, Van</th>\n",
       "      <th>Number of Landline/wireless telephones</th>\n",
       "      <th>Number of Cellular phone</th>\n",
       "      <th>Number of Personal Computer</th>\n",
       "      <th>Number of Stove with Oven/Gas Range</th>\n",
       "      <th>Number of Motorized Banca</th>\n",
       "      <th>Number of Motorcycle/Tricycle</th>\n",
       "    </tr>\n",
       "  </thead>\n",
       "  <tbody>\n",
       "    <tr>\n",
       "      <th>41539</th>\n",
       "      <td>119773</td>\n",
       "      <td>XII - SOCCSKSARGEN</td>\n",
       "      <td>44875</td>\n",
       "      <td>Enterpreneurial Activities</td>\n",
       "      <td>1</td>\n",
       "      <td>23675</td>\n",
       "      <td>21542</td>\n",
       "      <td>1476</td>\n",
       "      <td>6120</td>\n",
       "      <td>1632</td>\n",
       "      <td>...</td>\n",
       "      <td>0</td>\n",
       "      <td>0</td>\n",
       "      <td>0</td>\n",
       "      <td>0</td>\n",
       "      <td>0</td>\n",
       "      <td>1</td>\n",
       "      <td>0</td>\n",
       "      <td>0</td>\n",
       "      <td>0</td>\n",
       "      <td>0</td>\n",
       "    </tr>\n",
       "    <tr>\n",
       "      <th>41540</th>\n",
       "      <td>137320</td>\n",
       "      <td>XII - SOCCSKSARGEN</td>\n",
       "      <td>31157</td>\n",
       "      <td>Enterpreneurial Activities</td>\n",
       "      <td>1</td>\n",
       "      <td>2691</td>\n",
       "      <td>1273</td>\n",
       "      <td>1886</td>\n",
       "      <td>4386</td>\n",
       "      <td>1840</td>\n",
       "      <td>...</td>\n",
       "      <td>0</td>\n",
       "      <td>0</td>\n",
       "      <td>0</td>\n",
       "      <td>0</td>\n",
       "      <td>0</td>\n",
       "      <td>3</td>\n",
       "      <td>0</td>\n",
       "      <td>0</td>\n",
       "      <td>0</td>\n",
       "      <td>0</td>\n",
       "    </tr>\n",
       "    <tr>\n",
       "      <th>41541</th>\n",
       "      <td>133171</td>\n",
       "      <td>XII - SOCCSKSARGEN</td>\n",
       "      <td>45882</td>\n",
       "      <td>Enterpreneurial Activities</td>\n",
       "      <td>2</td>\n",
       "      <td>28646</td>\n",
       "      <td>27339</td>\n",
       "      <td>480</td>\n",
       "      <td>4796</td>\n",
       "      <td>1232</td>\n",
       "      <td>...</td>\n",
       "      <td>0</td>\n",
       "      <td>0</td>\n",
       "      <td>0</td>\n",
       "      <td>0</td>\n",
       "      <td>0</td>\n",
       "      <td>1</td>\n",
       "      <td>0</td>\n",
       "      <td>0</td>\n",
       "      <td>0</td>\n",
       "      <td>0</td>\n",
       "    </tr>\n",
       "    <tr>\n",
       "      <th>41542</th>\n",
       "      <td>129500</td>\n",
       "      <td>XII - SOCCSKSARGEN</td>\n",
       "      <td>81416</td>\n",
       "      <td>Enterpreneurial Activities</td>\n",
       "      <td>1</td>\n",
       "      <td>29996</td>\n",
       "      <td>26655</td>\n",
       "      <td>2359</td>\n",
       "      <td>17730</td>\n",
       "      <td>2923</td>\n",
       "      <td>...</td>\n",
       "      <td>0</td>\n",
       "      <td>0</td>\n",
       "      <td>0</td>\n",
       "      <td>0</td>\n",
       "      <td>0</td>\n",
       "      <td>2</td>\n",
       "      <td>0</td>\n",
       "      <td>0</td>\n",
       "      <td>0</td>\n",
       "      <td>0</td>\n",
       "    </tr>\n",
       "    <tr>\n",
       "      <th>41543</th>\n",
       "      <td>128598</td>\n",
       "      <td>XII - SOCCSKSARGEN</td>\n",
       "      <td>78195</td>\n",
       "      <td>Enterpreneurial Activities</td>\n",
       "      <td>1</td>\n",
       "      <td>43485</td>\n",
       "      <td>41205</td>\n",
       "      <td>1985</td>\n",
       "      <td>7735</td>\n",
       "      <td>2062</td>\n",
       "      <td>...</td>\n",
       "      <td>0</td>\n",
       "      <td>0</td>\n",
       "      <td>0</td>\n",
       "      <td>0</td>\n",
       "      <td>0</td>\n",
       "      <td>1</td>\n",
       "      <td>0</td>\n",
       "      <td>0</td>\n",
       "      <td>0</td>\n",
       "      <td>0</td>\n",
       "    </tr>\n",
       "  </tbody>\n",
       "</table>\n",
       "<p>5 rows × 60 columns</p>\n",
       "</div>"
      ],
      "text/plain": [
       "       Total Household Income              Region  Total Food Expenditure  \\\n",
       "41539                  119773  XII - SOCCSKSARGEN                   44875   \n",
       "41540                  137320  XII - SOCCSKSARGEN                   31157   \n",
       "41541                  133171  XII - SOCCSKSARGEN                   45882   \n",
       "41542                  129500  XII - SOCCSKSARGEN                   81416   \n",
       "41543                  128598  XII - SOCCSKSARGEN                   78195   \n",
       "\n",
       "            Main Source of Income  Agricultural Household indicator  \\\n",
       "41539  Enterpreneurial Activities                                 1   \n",
       "41540  Enterpreneurial Activities                                 1   \n",
       "41541  Enterpreneurial Activities                                 2   \n",
       "41542  Enterpreneurial Activities                                 1   \n",
       "41543  Enterpreneurial Activities                                 1   \n",
       "\n",
       "       Bread and Cereals Expenditure  Total Rice Expenditure  \\\n",
       "41539                          23675                   21542   \n",
       "41540                           2691                    1273   \n",
       "41541                          28646                   27339   \n",
       "41542                          29996                   26655   \n",
       "41543                          43485                   41205   \n",
       "\n",
       "       Meat Expenditure  Total Fish and  marine products Expenditure  \\\n",
       "41539              1476                                         6120   \n",
       "41540              1886                                         4386   \n",
       "41541               480                                         4796   \n",
       "41542              2359                                        17730   \n",
       "41543              1985                                         7735   \n",
       "\n",
       "       Fruit Expenditure  ...  Number of Refrigerator/Freezer  \\\n",
       "41539               1632  ...                               0   \n",
       "41540               1840  ...                               0   \n",
       "41541               1232  ...                               0   \n",
       "41542               2923  ...                               0   \n",
       "41543               2062  ...                               0   \n",
       "\n",
       "       Number of Washing Machine  Number of Airconditioner  \\\n",
       "41539                          0                         0   \n",
       "41540                          0                         0   \n",
       "41541                          0                         0   \n",
       "41542                          0                         0   \n",
       "41543                          0                         0   \n",
       "\n",
       "       Number of Car, Jeep, Van  Number of Landline/wireless telephones  \\\n",
       "41539                         0                                       0   \n",
       "41540                         0                                       0   \n",
       "41541                         0                                       0   \n",
       "41542                         0                                       0   \n",
       "41543                         0                                       0   \n",
       "\n",
       "       Number of Cellular phone  Number of Personal Computer  \\\n",
       "41539                         1                            0   \n",
       "41540                         3                            0   \n",
       "41541                         1                            0   \n",
       "41542                         2                            0   \n",
       "41543                         1                            0   \n",
       "\n",
       "       Number of Stove with Oven/Gas Range  Number of Motorized Banca  \\\n",
       "41539                                    0                          0   \n",
       "41540                                    0                          0   \n",
       "41541                                    0                          0   \n",
       "41542                                    0                          0   \n",
       "41543                                    0                          0   \n",
       "\n",
       "       Number of Motorcycle/Tricycle  \n",
       "41539                              0  \n",
       "41540                              0  \n",
       "41541                              0  \n",
       "41542                              0  \n",
       "41543                              0  \n",
       "\n",
       "[5 rows x 60 columns]"
      ]
     },
     "execution_count": 18,
     "metadata": {},
     "output_type": "execute_result"
    }
   ],
   "source": [
    "# Tail\n",
    "household.tail()"
   ]
  },
  {
   "cell_type": "code",
   "execution_count": 20,
   "metadata": {
    "id": "jtz27rGLWp_C"
   },
   "outputs": [
    {
     "data": {
      "text/plain": [
       "(41544, 60)"
      ]
     },
     "execution_count": 20,
     "metadata": {},
     "output_type": "execute_result"
    }
   ],
   "source": [
    "# Shape\n",
    "household.shape"
   ]
  },
  {
   "cell_type": "code",
   "execution_count": 22,
   "metadata": {
    "id": "N0UjVkZRWp_E"
   },
   "outputs": [
    {
     "data": {
      "text/plain": [
       "Total Household Income                            int64\n",
       "Region                                           object\n",
       "Total Food Expenditure                            int64\n",
       "Main Source of Income                            object\n",
       "Agricultural Household indicator                  int64\n",
       "Bread and Cereals Expenditure                     int64\n",
       "Total Rice Expenditure                            int64\n",
       "Meat Expenditure                                  int64\n",
       "Total Fish and  marine products Expenditure       int64\n",
       "Fruit Expenditure                                 int64\n",
       "Vegetables Expenditure                            int64\n",
       "Restaurant and hotels Expenditure                 int64\n",
       "Alcoholic Beverages Expenditure                   int64\n",
       "Tobacco Expenditure                               int64\n",
       "Clothing, Footwear and Other Wear Expenditure     int64\n",
       "Housing and water Expenditure                     int64\n",
       "Imputed House Rental Value                        int64\n",
       "Medical Care Expenditure                          int64\n",
       "Transportation Expenditure                        int64\n",
       "Communication Expenditure                         int64\n",
       "Education Expenditure                             int64\n",
       "Miscellaneous Goods and Services Expenditure      int64\n",
       "Special Occasions Expenditure                     int64\n",
       "Crop Farming and Gardening expenses               int64\n",
       "Total Income from Entrepreneurial Acitivites      int64\n",
       "Household Head Sex                               object\n",
       "Household Head Age                                int64\n",
       "Household Head Marital Status                    object\n",
       "Household Head Highest Grade Completed           object\n",
       "Household Head Job or Business Indicator         object\n",
       "Household Head Occupation                        object\n",
       "Household Head Class of Worker                   object\n",
       "Type of Household                                object\n",
       "Total Number of Family members                    int64\n",
       "Members with age less than 5 year old             int64\n",
       "Members with age 5 - 17 years old                 int64\n",
       "Total number of family members employed           int64\n",
       "Type of Building/House                           object\n",
       "Type of Roof                                     object\n",
       "Type of Walls                                    object\n",
       "House Floor Area                                  int64\n",
       "House Age                                         int64\n",
       "Number of bedrooms                                int64\n",
       "Tenure Status                                    object\n",
       "Toilet Facilities                                object\n",
       "Electricity                                       int64\n",
       "Main Source of Water Supply                      object\n",
       "Number of Television                              int64\n",
       "Number of CD/VCD/DVD                              int64\n",
       "Number of Component/Stereo set                    int64\n",
       "Number of Refrigerator/Freezer                    int64\n",
       "Number of Washing Machine                         int64\n",
       "Number of Airconditioner                          int64\n",
       "Number of Car, Jeep, Van                          int64\n",
       "Number of Landline/wireless telephones            int64\n",
       "Number of Cellular phone                          int64\n",
       "Number of Personal Computer                       int64\n",
       "Number of Stove with Oven/Gas Range               int64\n",
       "Number of Motorized Banca                         int64\n",
       "Number of Motorcycle/Tricycle                     int64\n",
       "dtype: object"
      ]
     },
     "execution_count": 22,
     "metadata": {},
     "output_type": "execute_result"
    }
   ],
   "source": [
    "# Data Types\n",
    "household.dtypes"
   ]
  },
  {
   "cell_type": "markdown",
   "metadata": {
    "id": "8C9HLIwaWp_G"
   },
   "source": [
    "#### Surveying the populations\n",
    "\n",
    "##### 1. Create a histogram of `Total Household Income`."
   ]
  },
  {
   "cell_type": "code",
   "execution_count": 24,
   "metadata": {
    "id": "ge1hHvg7Wp_H"
   },
   "outputs": [
    {
     "data": {
      "image/png": "[encoded data removed]",
      "text/plain": [
       "<Figure size 640x480 with 1 Axes>"
      ]
     },
     "metadata": {},
     "output_type": "display_data"
    }
   ],
   "source": [
    "# ANSWER\n",
    "plt.hist(household['Total Household Income'])\n",
    "plt.show()"
   ]
  },
  {
   "cell_type": "code",
   "execution_count": 26,
   "metadata": {},
   "outputs": [
    {
     "data": {
      "image/png": "[encoded data removed]",
      "text/plain": [
       "<Figure size 640x480 with 1 Axes>"
      ]
     },
     "metadata": {},
     "output_type": "display_data"
    }
   ],
   "source": [
    "sns.histplot(household['Total Household Income'])\n",
    "plt.show()"
   ]
  },
  {
   "cell_type": "markdown",
   "metadata": {
    "id": "Kvj7MZo7Wp_J"
   },
   "source": [
    "##### 2. How would you describe the shape of this population?"
   ]
  },
  {
   "cell_type": "code",
   "execution_count": null,
   "metadata": {},
   "outputs": [],
   "source": [
    "#The histogram skews right which means there are more counts towards the lower end of Total household income"
   ]
  },
  {
   "cell_type": "markdown",
   "metadata": {
    "id": "pgFbYuCYWp_J"
   },
   "source": [
    "**ANSWER:**\n"
   ]
  },
  {
   "cell_type": "markdown",
   "metadata": {
    "id": "I4WSzg_QWp_K"
   },
   "source": [
    "##### 3. What is the mean income of this population?"
   ]
  },
  {
   "cell_type": "code",
   "execution_count": 28,
   "metadata": {
    "id": "AFRb6NTrWp_L"
   },
   "outputs": [
    {
     "data": {
      "text/plain": [
       "247555.58480165608"
      ]
     },
     "execution_count": 28,
     "metadata": {},
     "output_type": "execute_result"
    }
   ],
   "source": [
    "# ANSWER\n",
    "np.mean(household['Total Household Income'])"
   ]
  },
  {
   "cell_type": "markdown",
   "metadata": {
    "id": "7t2837pfWp_N"
   },
   "source": [
    "##### 4. How would you estimate the mean of this population if you only had a random sample of it?"
   ]
  },
  {
   "cell_type": "code",
   "execution_count": null,
   "metadata": {
    "id": "ggfGT1mAWp_O"
   },
   "outputs": [],
   "source": [
    "# ANSWER\n",
    "#The mean generated from the sample would be taken as an estimate."
   ]
  },
  {
   "cell_type": "markdown",
   "metadata": {
    "id": "X1idVptIWp_R"
   },
   "source": [
    "#### Simulated sampling (sample means)"
   ]
  },
  {
   "cell_type": "markdown",
   "metadata": {
    "id": "SKkYeNcCWp_R"
   },
   "source": [
    "Now, we'd like to get an idea of what happens when we take multiple random samples of size 5.\n",
    "\n",
    "Take 10 sample (size=5) from the entire population. Calculate means for each sample. Now make a histogram of all the sample means.\n",
    "\n",
    "- Describe the shape of the histogram.\n",
    "- What is the center of the distribution of sample means?"
   ]
  },
  {
   "cell_type": "markdown",
   "metadata": {
    "id": "OyPK3qRcWp_S"
   },
   "source": [
    "##### 5. Simulation with `sample_size=5`"
   ]
  },
  {
   "cell_type": "markdown",
   "metadata": {
    "id": "vOk-K5ERWp_S"
   },
   "source": [
    "Take 10 samples, but with a sample size of 5."
   ]
  },
  {
   "cell_type": "code",
   "execution_count": 103,
   "metadata": {
    "id": "cy9hYhC-Wp_T"
   },
   "outputs": [],
   "source": [
    "# ANSWER\n",
    "sample_mean_list = []\n",
    "\n",
    "for i in range(10):\n",
    "    samples = household.sample(5)\n",
    "    means = np.mean(samples['Total Household Income'])\n",
    "    sample_mean_list.append(means)\n"
   ]
  },
  {
   "cell_type": "code",
   "execution_count": 109,
   "metadata": {},
   "outputs": [
    {
     "data": {
      "text/plain": [
       "[418888.8,\n",
       " 205528.6,\n",
       " 138612.0,\n",
       " 281178.4,\n",
       " 243656.0,\n",
       " 89614.6,\n",
       " 278379.8,\n",
       " 196492.6,\n",
       " 253925.2,\n",
       " 140546.8]"
      ]
     },
     "execution_count": 109,
     "metadata": {},
     "output_type": "execute_result"
    }
   ],
   "source": [
    "sample_mean_list"
   ]
  },
  {
   "cell_type": "markdown",
   "metadata": {
    "id": "B_R3uh2vWp_b"
   },
   "source": [
    "###### 6.A Make a histogram of all the sample means"
   ]
  },
  {
   "cell_type": "code",
   "execution_count": 113,
   "metadata": {
    "id": "fxfFQoymWp_c"
   },
   "outputs": [
    {
     "data": {
      "image/png": "[encoded data removed]",
      "text/plain": [
       "<Figure size 640x480 with 1 Axes>"
      ]
     },
     "metadata": {},
     "output_type": "display_data"
    }
   ],
   "source": [
    "# ANSWER\n",
    "sns.histplot(sample_mean_list)\n",
    "plt.xlabel('Mean of samples')\n",
    "plt.show()"
   ]
  },
  {
   "cell_type": "markdown",
   "metadata": {
    "id": "Wgz--ujKWp_e"
   },
   "source": [
    "###### 6.B Describe the shape of the histogram."
   ]
  },
  {
   "cell_type": "markdown",
   "metadata": {
    "id": "1bvqt98-Wp_f"
   },
   "source": [
    "**ANSWER:**\n"
   ]
  },
  {
   "cell_type": "code",
   "execution_count": null,
   "metadata": {},
   "outputs": [],
   "source": [
    "#It looks like the histogram skews right showing a bigger concentration on the lower end."
   ]
  },
  {
   "cell_type": "markdown",
   "metadata": {
    "id": "rvx1E9OdWp_g"
   },
   "source": [
    "##### 7. Simulation with `sample_size=15`"
   ]
  },
  {
   "cell_type": "markdown",
   "metadata": {
    "id": "8iCYMHr7Wp_g"
   },
   "source": [
    "let's try taking another 1000 samples, but with a sample size of 15"
   ]
  },
  {
   "cell_type": "code",
   "execution_count": 118,
   "metadata": {
    "id": "OLe04oY5Wp_h"
   },
   "outputs": [],
   "source": [
    "# ANSWER\n",
    "sample_mean_list2 = []\n",
    "\n",
    "for m in range(1000):\n",
    "    samples = household.sample(15)\n",
    "    means = np.mean(samples['Total Household Income'])\n",
    "    sample_mean_list2.append(means)"
   ]
  },
  {
   "cell_type": "code",
   "execution_count": 124,
   "metadata": {},
   "outputs": [
    {
     "data": {
      "image/png": "[encoded data removed]",
      "text/plain": [
       "<Figure size 640x480 with 1 Axes>"
      ]
     },
     "metadata": {},
     "output_type": "display_data"
    }
   ],
   "source": [
    "sns.histplot(sample_mean_list2)\n",
    "plt.xlabel('Mean of samples')\n",
    "plt.show()"
   ]
  },
  {
   "cell_type": "markdown",
   "metadata": {
    "id": "mEsn6pYpWp_k"
   },
   "source": [
    "##### 8.A Simulation with `sample_size=50`"
   ]
  },
  {
   "cell_type": "markdown",
   "metadata": {
    "id": "Hf1nTCxzWp_l"
   },
   "source": [
    "Let's try taking another 1000 samples, but with a sample size of 50"
   ]
  },
  {
   "cell_type": "code",
   "execution_count": 126,
   "metadata": {
    "id": "TVmVzgJwWp_l"
   },
   "outputs": [],
   "source": [
    "# ANSWER\n",
    "sample_mean_list3 = []\n",
    "\n",
    "for m in range(1000):\n",
    "    samples = household.sample(50)\n",
    "    means = np.mean(samples['Total Household Income'])\n",
    "    sample_mean_list3.append(means)"
   ]
  },
  {
   "cell_type": "code",
   "execution_count": 132,
   "metadata": {},
   "outputs": [
    {
     "data": {
      "image/png": "[encoded data removed]",
      "text/plain": [
       "<Figure size 640x480 with 1 Axes>"
      ]
     },
     "metadata": {},
     "output_type": "display_data"
    }
   ],
   "source": [
    "sns.histplot(sample_mean_list3)\n",
    "plt.xlabel('Mean of samples')\n",
    "plt.show()"
   ]
  },
  {
   "cell_type": "markdown",
   "metadata": {
    "id": "61vjImD6Wp_p"
   },
   "source": [
    "###### 8.B Describe the shape of the histogram of sample means (using sample size of 50)"
   ]
  },
  {
   "cell_type": "markdown",
   "metadata": {
    "id": "RQmiqmA3Wp_r"
   },
   "source": [
    "**ANSWER:**\n",
    "It is again skewed to the right"
   ]
  },
  {
   "cell_type": "markdown",
   "metadata": {
    "id": "S4CYvqnWWp_s"
   },
   "source": [
    "###### 8.C What is mean of the distribution of sample means?"
   ]
  },
  {
   "cell_type": "code",
   "execution_count": 134,
   "metadata": {
    "id": "u9o6BrUOWp_t"
   },
   "outputs": [
    {
     "data": {
      "text/plain": [
       "248066.76471999998"
      ]
     },
     "execution_count": 134,
     "metadata": {},
     "output_type": "execute_result"
    }
   ],
   "source": [
    "# ANSWER\n",
    "np.mean(sample_mean_list3)"
   ]
  },
  {
   "cell_type": "markdown",
   "metadata": {
    "id": "vWIOMBaJWp_w"
   },
   "source": [
    "**ANSWER:**\n",
    "\n",
    "> If repeated random samples of a given size n are taken from a population of values for a quantitative variable, where the population mean is μ (mu) and the population standard deviation is σ (sigma) then the mean of all sample means (x-bars) is population mean μ (mu)."
   ]
  },
  {
   "cell_type": "markdown",
   "metadata": {
    "id": "qsjv6QjVWp_w"
   },
   "source": [
    "###### 8.D As the sample size grew, did your results confirm the CLT?"
   ]
  },
  {
   "cell_type": "markdown",
   "metadata": {
    "id": "SgwjPt_sWp_9"
   },
   "source": [
    "**ANSWER:**\n",
    "\n"
   ]
  },
  {
   "cell_type": "code",
   "execution_count": null,
   "metadata": {},
   "outputs": [],
   "source": [
    "#It seems the last 2 histogram distributions were most normal compared to the first due to a smaller sample size. As long as sample size is big enough it does confirm CLT."
   ]
  },
  {
   "cell_type": "markdown",
   "metadata": {
    "id": "Pc-3XvwPnfkk"
   },
   "source": [
    "\n",
    "\n",
    "---\n",
    "\n",
    "\n",
    "\n",
    "---\n",
    "\n",
    "\n",
    "\n",
    "> > > > > > > > > © 2025 Institute of Data\n",
    "\n",
    "\n",
    "---\n",
    "\n",
    "\n",
    "\n",
    "---\n",
    "\n",
    "\n",
    "\n"
   ]
  }
 ],
 "metadata": {
  "colab": {
   "provenance": []
  },
  "kernelspec": {
   "display_name": "Python [conda env:base] *",
   "language": "python",
   "name": "conda-base-py"
  },
  "language_info": {
   "codemirror_mode": {
    "name": "ipython",
    "version": 3
   },
   "file_extension": ".py",
   "mimetype": "text/x-python",
   "name": "python",
   "nbconvert_exporter": "python",
   "pygments_lexer": "ipython3",
   "version": "3.12.7"
  }
 },
 "nbformat": 4,
 "nbformat_minor": 4
}
